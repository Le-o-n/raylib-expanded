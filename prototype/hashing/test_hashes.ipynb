{
 "cells": [
  {
   "cell_type": "code",
   "execution_count": 13,
   "metadata": {},
   "outputs": [],
   "source": [
    "from typing import Callable, Iterable\n",
    "import hash_string, words\n",
    "import matplotlib.pyplot as plt\n",
    "import numpy as np\n"
   ]
  },
  {
   "cell_type": "code",
   "execution_count": 14,
   "metadata": {},
   "outputs": [],
   "source": [
    "\n",
    "hash_funcs: list[Callable[[str], int]] = [\n",
    "    hash_string.string_sum01,\n",
    "    hash_string.string_sum02,\n",
    "    hash_string.string_sum03,\n",
    "    hash_string.string_sum04,\n",
    "]\n",
    "\n",
    "\n",
    "def test_hash_func(\n",
    "    hash_func: Callable[[str], int],\n",
    "    words_iter: Iterable[str],\n",
    "    no_bucket: int\n",
    ") -> list[int]:\n",
    "    \n",
    "    buckets: list[int] = [\n",
    "        0 for _ in range(no_bucket)\n",
    "    ]\n",
    "    \n",
    "    hits: list[int] = []\n",
    "    \n",
    "    for word in words_iter:\n",
    "        word_hash: int = hash_func(word)\n",
    "        word_hash = word_hash % no_bucket\n",
    "\n",
    "        buckets[word_hash] += 1\n",
    "        hits.append(word_hash)\n",
    "    \n",
    "    return buckets, hits\n",
    "    \n"
   ]
  },
  {
   "cell_type": "code",
   "execution_count": 15,
   "metadata": {},
   "outputs": [],
   "source": [
    "\n",
    "all_bucket_collisions: list[list[int]] = []\n",
    "all_func_hits: list[list[int]] = []\n",
    "\n",
    "for hash_func in hash_funcs:\n",
    "    bucket_collisions: list[int] \n",
    "    func_hits: list[int] \n",
    "    \n",
    "    \n",
    "    bucket_collisions, func_hits = test_hash_func(\n",
    "        hash_func,\n",
    "        words.yield_word(),\n",
    "        256\n",
    "    )\n",
    "    \n",
    "    all_bucket_collisions.append(bucket_collisions)\n",
    "    all_func_hits.append(func_hits)\n",
    "    \n"
   ]
  },
  {
   "cell_type": "code",
   "execution_count": 16,
   "metadata": {},
   "outputs": [
    {
     "data": {
      "image/png": "[encoded data removed]",
      "text/plain": [
       "<Figure size 640x480 with 1 Axes>"
      ]
     },
     "metadata": {},
     "output_type": "display_data"
    }
   ],
   "source": [
    "plt.hist(all_func_hits)\n",
    "plt.show()"
   ]
  }
 ],
 "metadata": {
  "kernelspec": {
   "display_name": "Python 3",
   "language": "python",
   "name": "python3"
  },
  "language_info": {
   "codemirror_mode": {
    "name": "ipython",
    "version": 3
   },
   "file_extension": ".py",
   "mimetype": "text/x-python",
   "name": "python",
   "nbconvert_exporter": "python",
   "pygments_lexer": "ipython3",
   "version": "3.12.7"
  }
 },
 "nbformat": 4,
 "nbformat_minor": 2
}
